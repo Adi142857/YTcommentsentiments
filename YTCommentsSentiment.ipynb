{
  "nbformat": 4,
  "nbformat_minor": 5,
  "metadata": {
    "kernelspec": {
      "display_name": "Python 3 (ipykernel)",
      "language": "python",
      "name": "python3"
    },
    "language_info": {
      "codemirror_mode": {
        "name": "ipython",
        "version": 3
      },
      "file_extension": ".py",
      "mimetype": "text/x-python",
      "name": "python",
      "nbconvert_exporter": "python",
      "pygments_lexer": "ipython3",
      "version": "3.9.5"
    },
    "colab": {
      "name": "YTCommentsSentiment.ipynb",
      "provenance": [],
      "collapsed_sections": [],
      "include_colab_link": true
    }
  },
  "cells": [
    {
      "cell_type": "markdown",
      "metadata": {
        "id": "view-in-github",
        "colab_type": "text"
      },
      "source": [
        "<a href=\"https://colab.research.google.com/github/Adi142857/YTcommentsentiments/blob/master/YTCommentsSentiment.ipynb\" target=\"_parent\"><img src=\"https://colab.research.google.com/assets/colab-badge.svg\" alt=\"Open In Colab\"/></a>"
      ]
    },
    {
      "cell_type": "markdown",
      "metadata": {
        "id": "1c94b25f-2ff8-487f-ade3-76045d55ded6"
      },
      "source": [
        "### Emotion Detector\n",
        "- detects emotion in text"
      ],
      "id": "1c94b25f-2ff8-487f-ade3-76045d55ded6"
    },
    {
      "cell_type": "code",
      "metadata": {
        "colab": {
          "base_uri": "https://localhost:8080/"
        },
        "id": "rUrNL5rVlHjC",
        "outputId": "74a29a61-d9c0-44ee-d7a0-3eb887f09beb"
      },
      "source": [
        "from google.colab import drive\n",
        "drive.mount('/content/drive')"
      ],
      "id": "rUrNL5rVlHjC",
      "execution_count": null,
      "outputs": [
        {
          "output_type": "stream",
          "name": "stdout",
          "text": [
            "Mounted at /content/drive\n"
          ]
        }
      ]
    },
    {
      "cell_type": "code",
      "metadata": {
        "colab": {
          "base_uri": "https://localhost:8080/"
        },
        "id": "fxzzkT0CTU1n",
        "outputId": "fff734bc-8ae9-4f9d-c255-7519e39afd29"
      },
      "source": [
        "!pip install neattext"
      ],
      "id": "fxzzkT0CTU1n",
      "execution_count": null,
      "outputs": [
        {
          "output_type": "stream",
          "name": "stdout",
          "text": [
            "Collecting neattext\n",
            "  Downloading neattext-0.1.2-py3-none-any.whl (114 kB)\n",
            "\u001b[?25l\r\u001b[K     |██▉                             | 10 kB 23.4 MB/s eta 0:00:01\r\u001b[K     |█████▊                          | 20 kB 28.2 MB/s eta 0:00:01\r\u001b[K     |████████▋                       | 30 kB 27.8 MB/s eta 0:00:01\r\u001b[K     |███████████▌                    | 40 kB 18.6 MB/s eta 0:00:01\r\u001b[K     |██████████████▍                 | 51 kB 8.1 MB/s eta 0:00:01\r\u001b[K     |█████████████████▏              | 61 kB 9.2 MB/s eta 0:00:01\r\u001b[K     |████████████████████            | 71 kB 9.0 MB/s eta 0:00:01\r\u001b[K     |███████████████████████         | 81 kB 9.8 MB/s eta 0:00:01\r\u001b[K     |█████████████████████████▉      | 92 kB 10.1 MB/s eta 0:00:01\r\u001b[K     |████████████████████████████▊   | 102 kB 7.8 MB/s eta 0:00:01\r\u001b[K     |███████████████████████████████▋| 112 kB 7.8 MB/s eta 0:00:01\r\u001b[K     |████████████████████████████████| 114 kB 7.8 MB/s \n",
            "\u001b[?25hInstalling collected packages: neattext\n",
            "Successfully installed neattext-0.1.2\n"
          ]
        }
      ]
    },
    {
      "cell_type": "code",
      "metadata": {
        "id": "3d316659-04f6-44fe-873b-5383be716e6e"
      },
      "source": [
        "#import packages\n",
        "\n",
        "import joblib\n",
        "\n",
        "#EDA\n",
        "import pandas as pd\n",
        "import numpy as np\n",
        "\n",
        "#visualization packages\n",
        "import seaborn as sns\n",
        "import matplotlib.pyplot as plt\n",
        "\n",
        "#Text Cleaning\n",
        "import neattext.functions as nfx\n",
        "\n",
        "from sklearn.feature_extraction.text import CountVectorizer\n",
        "from sklearn.model_selection import train_test_split\n",
        "from sklearn.linear_model import LogisticRegression\n",
        "from sklearn.naive_bayes import MultinomialNB\n",
        "from sklearn.metrics import accuracy_score,confusion_matrix,classification_report\n",
        "from sklearn.pipeline import Pipeline\n",
        "from sklearn.ensemble import RandomForestClassifier\n",
        "from sklearn import preprocessing"
      ],
      "id": "3d316659-04f6-44fe-873b-5383be716e6e",
      "execution_count": null,
      "outputs": []
    },
    {
      "cell_type": "code",
      "metadata": {
        "id": "5be96f2c"
      },
      "source": [
        "pd.set_option('display.max_colwidth',None)"
      ],
      "id": "5be96f2c",
      "execution_count": null,
      "outputs": []
    },
    {
      "cell_type": "code",
      "metadata": {
        "colab": {
          "base_uri": "https://localhost:8080/",
          "height": 235
        },
        "id": "eaeef96d",
        "outputId": "1da5fdf3-ae2b-483d-e3db-8a5c7eff63a7"
      },
      "source": [
        "#Loading the dataset\n",
        "df = pd.read_csv(\"/content/datasetYT.csv\")\n",
        "df.head(6)"
      ],
      "id": "eaeef96d",
      "execution_count": null,
      "outputs": [
        {
          "output_type": "execute_result",
          "data": {
            "text/html": [
              "<div>\n",
              "<style scoped>\n",
              "    .dataframe tbody tr th:only-of-type {\n",
              "        vertical-align: middle;\n",
              "    }\n",
              "\n",
              "    .dataframe tbody tr th {\n",
              "        vertical-align: top;\n",
              "    }\n",
              "\n",
              "    .dataframe thead th {\n",
              "        text-align: right;\n",
              "    }\n",
              "</style>\n",
              "<table border=\"1\" class=\"dataframe\">\n",
              "  <thead>\n",
              "    <tr style=\"text-align: right;\">\n",
              "      <th></th>\n",
              "      <th>Comment</th>\n",
              "      <th>Polarity</th>\n",
              "    </tr>\n",
              "  </thead>\n",
              "  <tbody>\n",
              "    <tr>\n",
              "      <th>0</th>\n",
              "      <td>I live south Florida \\n\\n\\n\\nwow Irma</td>\n",
              "      <td>0.136364</td>\n",
              "    </tr>\n",
              "    <tr>\n",
              "      <th>1</th>\n",
              "      <td>Jamie - did you find out why you lost 0.5 marks?</td>\n",
              "      <td>0.000000</td>\n",
              "    </tr>\n",
              "    <tr>\n",
              "      <th>2</th>\n",
              "      <td>Brilliant</td>\n",
              "      <td>0.900000</td>\n",
              "    </tr>\n",
              "    <tr>\n",
              "      <th>3</th>\n",
              "      <td>🔥🔥🔥🔥🔥🔥🔥 blessed</td>\n",
              "      <td>0.000000</td>\n",
              "    </tr>\n",
              "    <tr>\n",
              "      <th>4</th>\n",
              "      <td>Why can't the US invest in expanding and improving public transportation? I rely on it heavily.</td>\n",
              "      <td>-0.100000</td>\n",
              "    </tr>\n",
              "    <tr>\n",
              "      <th>5</th>\n",
              "      <td>This is amazing!! Gah so excited for a new album from you lady!!!</td>\n",
              "      <td>0.526278</td>\n",
              "    </tr>\n",
              "  </tbody>\n",
              "</table>\n",
              "</div>"
            ],
            "text/plain": [
              "                                                                                           Comment  Polarity\n",
              "0                                                            I live south Florida \\n\\n\\n\\nwow Irma  0.136364\n",
              "1                                                 Jamie - did you find out why you lost 0.5 marks?  0.000000\n",
              "2                                                                                        Brilliant  0.900000\n",
              "3                                                                                  🔥🔥🔥🔥🔥🔥🔥 blessed  0.000000\n",
              "4  Why can't the US invest in expanding and improving public transportation? I rely on it heavily. -0.100000\n",
              "5                                This is amazing!! Gah so excited for a new album from you lady!!!  0.526278"
            ]
          },
          "metadata": {},
          "execution_count": 8
        }
      ]
    },
    {
      "cell_type": "code",
      "metadata": {
        "colab": {
          "base_uri": "https://localhost:8080/"
        },
        "id": "2517e071",
        "outputId": "1b81b618-f321-43fa-8b9a-a1fa85b6f717"
      },
      "source": [
        "df.drop_duplicates().shape"
      ],
      "id": "2517e071",
      "execution_count": null,
      "outputs": [
        {
          "output_type": "execute_result",
          "data": {
            "text/plain": [
              "(24145, 2)"
            ]
          },
          "metadata": {},
          "execution_count": 6
        }
      ]
    },
    {
      "cell_type": "code",
      "metadata": {
        "id": "b1bfc30c",
        "colab": {
          "base_uri": "https://localhost:8080/"
        },
        "outputId": "c37e105b-cc98-4e9e-a215-2905a543c612"
      },
      "source": [
        "for index,i in enumerate(df['Comment']):\n",
        "  df['Comment'][index] = str(i)\n",
        "df['CleanText'] = df['Comment'].apply(nfx.remove_stopwords)\n",
        "df['CleanText'] = df['CleanText'].apply(nfx.remove_userhandles)"
      ],
      "id": "b1bfc30c",
      "execution_count": null,
      "outputs": [
        {
          "output_type": "stream",
          "name": "stderr",
          "text": [
            "/usr/local/lib/python3.7/dist-packages/ipykernel_launcher.py:2: SettingWithCopyWarning: \n",
            "A value is trying to be set on a copy of a slice from a DataFrame\n",
            "\n",
            "See the caveats in the documentation: https://pandas.pydata.org/pandas-docs/stable/user_guide/indexing.html#returning-a-view-versus-a-copy\n",
            "  \n"
          ]
        }
      ]
    },
    {
      "cell_type": "code",
      "metadata": {
        "colab": {
          "base_uri": "https://localhost:8080/",
          "height": 220
        },
        "id": "12f456b1",
        "outputId": "5a1c3e34-d43a-42f5-fd95-0e856a877f60"
      },
      "source": [
        "df.head()"
      ],
      "id": "12f456b1",
      "execution_count": null,
      "outputs": [
        {
          "output_type": "execute_result",
          "data": {
            "text/html": [
              "<div>\n",
              "<style scoped>\n",
              "    .dataframe tbody tr th:only-of-type {\n",
              "        vertical-align: middle;\n",
              "    }\n",
              "\n",
              "    .dataframe tbody tr th {\n",
              "        vertical-align: top;\n",
              "    }\n",
              "\n",
              "    .dataframe thead th {\n",
              "        text-align: right;\n",
              "    }\n",
              "</style>\n",
              "<table border=\"1\" class=\"dataframe\">\n",
              "  <thead>\n",
              "    <tr style=\"text-align: right;\">\n",
              "      <th></th>\n",
              "      <th>Comment</th>\n",
              "      <th>Polarity</th>\n",
              "      <th>CleanText</th>\n",
              "    </tr>\n",
              "  </thead>\n",
              "  <tbody>\n",
              "    <tr>\n",
              "      <th>0</th>\n",
              "      <td>I live south Florida \\n\\n\\n\\nwow Irma</td>\n",
              "      <td>0.136364</td>\n",
              "      <td>live south Florida \\n\\n\\n\\nwow Irma</td>\n",
              "    </tr>\n",
              "    <tr>\n",
              "      <th>1</th>\n",
              "      <td>Jamie - did you find out why you lost 0.5 marks?</td>\n",
              "      <td>0.000000</td>\n",
              "      <td>Jamie - find lost 0.5 marks?</td>\n",
              "    </tr>\n",
              "    <tr>\n",
              "      <th>2</th>\n",
              "      <td>Brilliant</td>\n",
              "      <td>0.900000</td>\n",
              "      <td>Brilliant</td>\n",
              "    </tr>\n",
              "    <tr>\n",
              "      <th>3</th>\n",
              "      <td>🔥🔥🔥🔥🔥🔥🔥 blessed</td>\n",
              "      <td>0.000000</td>\n",
              "      <td>🔥🔥🔥🔥🔥🔥🔥 blessed</td>\n",
              "    </tr>\n",
              "    <tr>\n",
              "      <th>4</th>\n",
              "      <td>Why can't the US invest in expanding and improving public transportation? I rely on it heavily.</td>\n",
              "      <td>-0.100000</td>\n",
              "      <td>can't invest expanding improving public transportation? rely heavily.</td>\n",
              "    </tr>\n",
              "  </tbody>\n",
              "</table>\n",
              "</div>"
            ],
            "text/plain": [
              "                                                                                           Comment  ...                                                              CleanText\n",
              "0                                                            I live south Florida \\n\\n\\n\\nwow Irma  ...                                    live south Florida \\n\\n\\n\\nwow Irma\n",
              "1                                                 Jamie - did you find out why you lost 0.5 marks?  ...                                           Jamie - find lost 0.5 marks?\n",
              "2                                                                                        Brilliant  ...                                                              Brilliant\n",
              "3                                                                                  🔥🔥🔥🔥🔥🔥🔥 blessed  ...                                                        🔥🔥🔥🔥🔥🔥🔥 blessed\n",
              "4  Why can't the US invest in expanding and improving public transportation? I rely on it heavily.  ...  can't invest expanding improving public transportation? rely heavily.\n",
              "\n",
              "[5 rows x 3 columns]"
            ]
          },
          "metadata": {},
          "execution_count": 9
        }
      ]
    },
    {
      "cell_type": "code",
      "metadata": {
        "colab": {
          "base_uri": "https://localhost:8080/"
        },
        "id": "d55R3VCergzt",
        "outputId": "e9999a2b-1680-4e64-f06f-d244076ff073"
      },
      "source": [
        "# convert continuous to ordinal\n",
        "df['Polarity'][df.Polarity==0]= 0\n",
        "df['Polarity'][df.Polarity > 0]= 1\n",
        "df['Polarity'][df.Polarity < 0]= -1"
      ],
      "id": "d55R3VCergzt",
      "execution_count": null,
      "outputs": [
        {
          "output_type": "stream",
          "name": "stderr",
          "text": [
            "/usr/local/lib/python3.7/dist-packages/ipykernel_launcher.py:2: SettingWithCopyWarning: \n",
            "A value is trying to be set on a copy of a slice from a DataFrame\n",
            "\n",
            "See the caveats in the documentation: https://pandas.pydata.org/pandas-docs/stable/user_guide/indexing.html#returning-a-view-versus-a-copy\n",
            "  \n",
            "/usr/local/lib/python3.7/dist-packages/ipykernel_launcher.py:3: SettingWithCopyWarning: \n",
            "A value is trying to be set on a copy of a slice from a DataFrame\n",
            "\n",
            "See the caveats in the documentation: https://pandas.pydata.org/pandas-docs/stable/user_guide/indexing.html#returning-a-view-versus-a-copy\n",
            "  This is separate from the ipykernel package so we can avoid doing imports until\n",
            "/usr/local/lib/python3.7/dist-packages/ipykernel_launcher.py:4: SettingWithCopyWarning: \n",
            "A value is trying to be set on a copy of a slice from a DataFrame\n",
            "\n",
            "See the caveats in the documentation: https://pandas.pydata.org/pandas-docs/stable/user_guide/indexing.html#returning-a-view-versus-a-copy\n",
            "  after removing the cwd from sys.path.\n"
          ]
        }
      ]
    },
    {
      "cell_type": "code",
      "metadata": {
        "id": "38a07a3b"
      },
      "source": [
        "x_train,x_test,y_train,y_test = train_test_split(df['CleanText'], df['Polarity'], test_size=0.33, random_state=42)"
      ],
      "id": "38a07a3b",
      "execution_count": null,
      "outputs": []
    },
    {
      "cell_type": "code",
      "metadata": {
        "id": "b77be4bd"
      },
      "source": [
        "pipeline_lr = Pipeline(steps=[('cv',CountVectorizer()),('lr',LogisticRegression())])"
      ],
      "id": "b77be4bd",
      "execution_count": null,
      "outputs": []
    },
    {
      "cell_type": "code",
      "metadata": {
        "colab": {
          "base_uri": "https://localhost:8080/"
        },
        "id": "4205b33c",
        "outputId": "676f5fb9-f304-4e77-c5ff-8cb6bf46dee3"
      },
      "source": [
        "pipeline_lr.fit(x_train,y_train)"
      ],
      "id": "4205b33c",
      "execution_count": null,
      "outputs": [
        {
          "output_type": "stream",
          "name": "stderr",
          "text": [
            "/usr/local/lib/python3.7/dist-packages/sklearn/linear_model/_logistic.py:940: ConvergenceWarning: lbfgs failed to converge (status=1):\n",
            "STOP: TOTAL NO. of ITERATIONS REACHED LIMIT.\n",
            "\n",
            "Increase the number of iterations (max_iter) or scale the data as shown in:\n",
            "    https://scikit-learn.org/stable/modules/preprocessing.html\n",
            "Please also refer to the documentation for alternative solver options:\n",
            "    https://scikit-learn.org/stable/modules/linear_model.html#logistic-regression\n",
            "  extra_warning_msg=_LOGISTIC_SOLVER_CONVERGENCE_MSG)\n"
          ]
        },
        {
          "output_type": "execute_result",
          "data": {
            "text/plain": [
              "Pipeline(memory=None,\n",
              "         steps=[('cv',\n",
              "                 CountVectorizer(analyzer='word', binary=False,\n",
              "                                 decode_error='strict',\n",
              "                                 dtype=<class 'numpy.int64'>, encoding='utf-8',\n",
              "                                 input='content', lowercase=True, max_df=1.0,\n",
              "                                 max_features=None, min_df=1,\n",
              "                                 ngram_range=(1, 1), preprocessor=None,\n",
              "                                 stop_words=None, strip_accents=None,\n",
              "                                 token_pattern='(?u)\\\\b\\\\w\\\\w+\\\\b',\n",
              "                                 tokenizer=None, vocabulary=None)),\n",
              "                ('lr',\n",
              "                 LogisticRegression(C=1.0, class_weight=None, dual=False,\n",
              "                                    fit_intercept=True, intercept_scaling=1,\n",
              "                                    l1_ratio=None, max_iter=100,\n",
              "                                    multi_class='auto', n_jobs=None,\n",
              "                                    penalty='l2', random_state=None,\n",
              "                                    solver='lbfgs', tol=0.0001, verbose=0,\n",
              "                                    warm_start=False))],\n",
              "         verbose=False)"
            ]
          },
          "metadata": {},
          "execution_count": 12
        }
      ]
    },
    {
      "cell_type": "code",
      "metadata": {
        "colab": {
          "base_uri": "https://localhost:8080/"
        },
        "id": "4220b14d",
        "outputId": "fe955b1a-0df3-49fb-fd0e-e1fea4f56587"
      },
      "source": [
        "sample = \"athe\"\n",
        "pipeline_lr.predict([sample])"
      ],
      "id": "4220b14d",
      "execution_count": null,
      "outputs": [
        {
          "output_type": "execute_result",
          "data": {
            "text/plain": [
              "array([0.])"
            ]
          },
          "metadata": {},
          "execution_count": 14
        }
      ]
    },
    {
      "cell_type": "code",
      "metadata": {
        "id": "da8c49f2"
      },
      "source": [
        "# with open(\"../models/emotion_classifier.pkl\",\"wb\") as file:\n",
        "#     joblib.dump(pipeline_lr,file)"
      ],
      "id": "da8c49f2",
      "execution_count": null,
      "outputs": []
    },
    {
      "cell_type": "code",
      "metadata": {
        "id": "77d24fb7"
      },
      "source": [
        ""
      ],
      "id": "77d24fb7",
      "execution_count": null,
      "outputs": []
    }
  ]
}